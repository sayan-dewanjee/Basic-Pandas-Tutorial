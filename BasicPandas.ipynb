{
 "cells": [
  {
   "cell_type": "markdown",
   "id": "626c31ab-bf15-442b-8962-11473b451c10",
   "metadata": {},
   "source": [
    "# PANDAS"
   ]
  },
  {
   "cell_type": "code",
   "execution_count": 1,
   "id": "8dc8d6ba-c9ff-41fc-856d-b0e4e6cd4544",
   "metadata": {},
   "outputs": [],
   "source": [
    "import numpy as np\n",
    "import pandas as pd"
   ]
  },
  {
   "cell_type": "markdown",
   "id": "ffb5ecbf-3bb5-441e-8b2d-fec65745ff73",
   "metadata": {},
   "source": [
    "#### DataFrame making into Pandas"
   ]
  },
  {
   "cell_type": "code",
   "execution_count": 2,
   "id": "b4c02abc-030e-4229-ae84-b8457396ef42",
   "metadata": {},
   "outputs": [],
   "source": [
    "dict1={\n",
    "    \"name\" : ['tom','jerry','oggy','bob'],\n",
    "    \"age\"  : [12,5,4,8],\n",
    "    \"address\":['boston','london','delhi','paris']\n",
    "}   "
   ]
  },
  {
   "cell_type": "code",
   "execution_count": 3,
   "id": "31a4f505-8fdf-480f-843e-ee6fa8e4f73c",
   "metadata": {},
   "outputs": [],
   "source": [
    "df= pd.DataFrame(dict1)"
   ]
  },
  {
   "cell_type": "code",
   "execution_count": 4,
   "id": "8f73ff8b-b53c-4c42-9090-08a94f5f478c",
   "metadata": {},
   "outputs": [
    {
     "data": {
      "text/html": [
       "<div>\n",
       "<style scoped>\n",
       "    .dataframe tbody tr th:only-of-type {\n",
       "        vertical-align: middle;\n",
       "    }\n",
       "\n",
       "    .dataframe tbody tr th {\n",
       "        vertical-align: top;\n",
       "    }\n",
       "\n",
       "    .dataframe thead th {\n",
       "        text-align: right;\n",
       "    }\n",
       "</style>\n",
       "<table border=\"1\" class=\"dataframe\">\n",
       "  <thead>\n",
       "    <tr style=\"text-align: right;\">\n",
       "      <th></th>\n",
       "      <th>name</th>\n",
       "      <th>age</th>\n",
       "      <th>address</th>\n",
       "    </tr>\n",
       "  </thead>\n",
       "  <tbody>\n",
       "    <tr>\n",
       "      <th>0</th>\n",
       "      <td>tom</td>\n",
       "      <td>12</td>\n",
       "      <td>boston</td>\n",
       "    </tr>\n",
       "    <tr>\n",
       "      <th>1</th>\n",
       "      <td>jerry</td>\n",
       "      <td>5</td>\n",
       "      <td>london</td>\n",
       "    </tr>\n",
       "    <tr>\n",
       "      <th>2</th>\n",
       "      <td>oggy</td>\n",
       "      <td>4</td>\n",
       "      <td>delhi</td>\n",
       "    </tr>\n",
       "    <tr>\n",
       "      <th>3</th>\n",
       "      <td>bob</td>\n",
       "      <td>8</td>\n",
       "      <td>paris</td>\n",
       "    </tr>\n",
       "  </tbody>\n",
       "</table>\n",
       "</div>"
      ],
      "text/plain": [
       "    name  age address\n",
       "0    tom   12  boston\n",
       "1  jerry    5  london\n",
       "2   oggy    4   delhi\n",
       "3    bob    8   paris"
      ]
     },
     "execution_count": 4,
     "metadata": {},
     "output_type": "execute_result"
    }
   ],
   "source": [
    "df"
   ]
  },
  {
   "cell_type": "markdown",
   "id": "45e4ffed-2ad5-45f2-ae05-3dedf39deb35",
   "metadata": {},
   "source": [
    "#### DataFrame reading and writing  into csv"
   ]
  },
  {
   "cell_type": "code",
   "execution_count": 5,
   "id": "75f975b0-d000-4ac9-969a-e4c6ad56e307",
   "metadata": {},
   "outputs": [],
   "source": [
    "#to write an existing dataframe into csv file\n",
    "df.to_csv(\"practice.csv\")"
   ]
  },
  {
   "cell_type": "markdown",
   "id": "622a6b74-5832-400f-8d86-bf6f08b3e241",
   "metadata": {},
   "source": [
    "To set index to false ->"
   ]
  },
  {
   "cell_type": "code",
   "execution_count": 6,
   "id": "3d10a924-2c13-48ad-bbe5-1b07c8999b4f",
   "metadata": {},
   "outputs": [],
   "source": [
    "df.to_csv(\"practice.csv\",index=False)"
   ]
  },
  {
   "cell_type": "markdown",
   "id": "a1817f23-508c-4410-bb78-7e17a115c5de",
   "metadata": {},
   "source": [
    "To read from a csv file<br>\n",
    "df1= pd.read_csv(\"your_file_path\")"
   ]
  },
  {
   "cell_type": "markdown",
   "id": "4f88bada-645c-4f73-9d64-c07771581637",
   "metadata": {},
   "source": [
    "#### Head and Tail of a DataFrame"
   ]
  },
  {
   "cell_type": "code",
   "execution_count": 7,
   "id": "4d99327b-5cbe-41f7-b6a2-befe974eb59f",
   "metadata": {},
   "outputs": [
    {
     "data": {
      "text/html": [
       "<div>\n",
       "<style scoped>\n",
       "    .dataframe tbody tr th:only-of-type {\n",
       "        vertical-align: middle;\n",
       "    }\n",
       "\n",
       "    .dataframe tbody tr th {\n",
       "        vertical-align: top;\n",
       "    }\n",
       "\n",
       "    .dataframe thead th {\n",
       "        text-align: right;\n",
       "    }\n",
       "</style>\n",
       "<table border=\"1\" class=\"dataframe\">\n",
       "  <thead>\n",
       "    <tr style=\"text-align: right;\">\n",
       "      <th></th>\n",
       "      <th>name</th>\n",
       "      <th>age</th>\n",
       "      <th>address</th>\n",
       "    </tr>\n",
       "  </thead>\n",
       "  <tbody>\n",
       "    <tr>\n",
       "      <th>0</th>\n",
       "      <td>tom</td>\n",
       "      <td>12</td>\n",
       "      <td>boston</td>\n",
       "    </tr>\n",
       "    <tr>\n",
       "      <th>1</th>\n",
       "      <td>jerry</td>\n",
       "      <td>5</td>\n",
       "      <td>london</td>\n",
       "    </tr>\n",
       "  </tbody>\n",
       "</table>\n",
       "</div>"
      ],
      "text/plain": [
       "    name  age address\n",
       "0    tom   12  boston\n",
       "1  jerry    5  london"
      ]
     },
     "execution_count": 7,
     "metadata": {},
     "output_type": "execute_result"
    }
   ],
   "source": [
    "#if we want to see first 2 rows of a dataframe\n",
    "df.head(2)"
   ]
  },
  {
   "cell_type": "code",
   "execution_count": 8,
   "id": "eabef8a1-7487-4ad1-aaab-bee372b1581d",
   "metadata": {},
   "outputs": [
    {
     "data": {
      "text/html": [
       "<div>\n",
       "<style scoped>\n",
       "    .dataframe tbody tr th:only-of-type {\n",
       "        vertical-align: middle;\n",
       "    }\n",
       "\n",
       "    .dataframe tbody tr th {\n",
       "        vertical-align: top;\n",
       "    }\n",
       "\n",
       "    .dataframe thead th {\n",
       "        text-align: right;\n",
       "    }\n",
       "</style>\n",
       "<table border=\"1\" class=\"dataframe\">\n",
       "  <thead>\n",
       "    <tr style=\"text-align: right;\">\n",
       "      <th></th>\n",
       "      <th>name</th>\n",
       "      <th>age</th>\n",
       "      <th>address</th>\n",
       "    </tr>\n",
       "  </thead>\n",
       "  <tbody>\n",
       "    <tr>\n",
       "      <th>2</th>\n",
       "      <td>oggy</td>\n",
       "      <td>4</td>\n",
       "      <td>delhi</td>\n",
       "    </tr>\n",
       "    <tr>\n",
       "      <th>3</th>\n",
       "      <td>bob</td>\n",
       "      <td>8</td>\n",
       "      <td>paris</td>\n",
       "    </tr>\n",
       "  </tbody>\n",
       "</table>\n",
       "</div>"
      ],
      "text/plain": [
       "   name  age address\n",
       "2  oggy    4   delhi\n",
       "3   bob    8   paris"
      ]
     },
     "execution_count": 8,
     "metadata": {},
     "output_type": "execute_result"
    }
   ],
   "source": [
    "#if we want to see last 2 rows of a dataframe\n",
    "df.tail(2)"
   ]
  },
  {
   "cell_type": "markdown",
   "id": "7557bf02-61ab-420e-968e-511804e382a9",
   "metadata": {},
   "source": [
    "#### To get 5 number summary of numeric column"
   ]
  },
  {
   "cell_type": "code",
   "execution_count": 9,
   "id": "bae19c0c-c357-4516-a6cd-9e81d9e1a9a1",
   "metadata": {},
   "outputs": [
    {
     "data": {
      "text/html": [
       "<div>\n",
       "<style scoped>\n",
       "    .dataframe tbody tr th:only-of-type {\n",
       "        vertical-align: middle;\n",
       "    }\n",
       "\n",
       "    .dataframe tbody tr th {\n",
       "        vertical-align: top;\n",
       "    }\n",
       "\n",
       "    .dataframe thead th {\n",
       "        text-align: right;\n",
       "    }\n",
       "</style>\n",
       "<table border=\"1\" class=\"dataframe\">\n",
       "  <thead>\n",
       "    <tr style=\"text-align: right;\">\n",
       "      <th></th>\n",
       "      <th>age</th>\n",
       "    </tr>\n",
       "  </thead>\n",
       "  <tbody>\n",
       "    <tr>\n",
       "      <th>count</th>\n",
       "      <td>4.000000</td>\n",
       "    </tr>\n",
       "    <tr>\n",
       "      <th>mean</th>\n",
       "      <td>7.250000</td>\n",
       "    </tr>\n",
       "    <tr>\n",
       "      <th>std</th>\n",
       "      <td>3.593976</td>\n",
       "    </tr>\n",
       "    <tr>\n",
       "      <th>min</th>\n",
       "      <td>4.000000</td>\n",
       "    </tr>\n",
       "    <tr>\n",
       "      <th>25%</th>\n",
       "      <td>4.750000</td>\n",
       "    </tr>\n",
       "    <tr>\n",
       "      <th>50%</th>\n",
       "      <td>6.500000</td>\n",
       "    </tr>\n",
       "    <tr>\n",
       "      <th>75%</th>\n",
       "      <td>9.000000</td>\n",
       "    </tr>\n",
       "    <tr>\n",
       "      <th>max</th>\n",
       "      <td>12.000000</td>\n",
       "    </tr>\n",
       "  </tbody>\n",
       "</table>\n",
       "</div>"
      ],
      "text/plain": [
       "             age\n",
       "count   4.000000\n",
       "mean    7.250000\n",
       "std     3.593976\n",
       "min     4.000000\n",
       "25%     4.750000\n",
       "50%     6.500000\n",
       "75%     9.000000\n",
       "max    12.000000"
      ]
     },
     "execution_count": 9,
     "metadata": {},
     "output_type": "execute_result"
    }
   ],
   "source": [
    "df.describe()"
   ]
  },
  {
   "cell_type": "markdown",
   "id": "7613a1a3-f747-40bc-8e7d-231cdb2cdd6e",
   "metadata": {},
   "source": [
    "#### Updating a value in DataFrame"
   ]
  },
  {
   "cell_type": "code",
   "execution_count": 10,
   "id": "624a4d7d-68ea-4af0-9a61-60459967f191",
   "metadata": {},
   "outputs": [
    {
     "data": {
      "text/plain": [
       "0      tom\n",
       "1    jerry\n",
       "2     oggy\n",
       "3      bob\n",
       "Name: name, dtype: object"
      ]
     },
     "execution_count": 10,
     "metadata": {},
     "output_type": "execute_result"
    }
   ],
   "source": [
    "#To get the name column\n",
    "df['name']"
   ]
  },
  {
   "cell_type": "code",
   "execution_count": 11,
   "id": "da06db43-4073-422a-b6cf-f07f5171a173",
   "metadata": {},
   "outputs": [
    {
     "data": {
      "text/plain": [
       "'jerry'"
      ]
     },
     "execution_count": 11,
     "metadata": {},
     "output_type": "execute_result"
    }
   ],
   "source": [
    "#To get name of 2nd row\n",
    "df['name'][1]"
   ]
  },
  {
   "cell_type": "code",
   "execution_count": 12,
   "id": "bf5ce33e-f845-488a-af3f-f38d28562bc5",
   "metadata": {},
   "outputs": [
    {
     "name": "stderr",
     "output_type": "stream",
     "text": [
      "C:\\Users\\SAYAN DEWANJEE\\AppData\\Local\\Temp\\ipykernel_4668\\325394505.py:2: SettingWithCopyWarning: \n",
      "A value is trying to be set on a copy of a slice from a DataFrame\n",
      "\n",
      "See the caveats in the documentation: https://pandas.pydata.org/pandas-docs/stable/user_guide/indexing.html#returning-a-view-versus-a-copy\n",
      "  df['name'][1]='chutki'\n"
     ]
    }
   ],
   "source": [
    "#To update this name #It will work though it is throwing an error\n",
    "df['name'][1]='chutki'"
   ]
  },
  {
   "cell_type": "code",
   "execution_count": 13,
   "id": "4ae62e7f-216b-491d-922f-c04df931e8a9",
   "metadata": {},
   "outputs": [
    {
     "data": {
      "text/html": [
       "<div>\n",
       "<style scoped>\n",
       "    .dataframe tbody tr th:only-of-type {\n",
       "        vertical-align: middle;\n",
       "    }\n",
       "\n",
       "    .dataframe tbody tr th {\n",
       "        vertical-align: top;\n",
       "    }\n",
       "\n",
       "    .dataframe thead th {\n",
       "        text-align: right;\n",
       "    }\n",
       "</style>\n",
       "<table border=\"1\" class=\"dataframe\">\n",
       "  <thead>\n",
       "    <tr style=\"text-align: right;\">\n",
       "      <th></th>\n",
       "      <th>name</th>\n",
       "      <th>age</th>\n",
       "      <th>address</th>\n",
       "    </tr>\n",
       "  </thead>\n",
       "  <tbody>\n",
       "    <tr>\n",
       "      <th>0</th>\n",
       "      <td>tom</td>\n",
       "      <td>12</td>\n",
       "      <td>boston</td>\n",
       "    </tr>\n",
       "    <tr>\n",
       "      <th>1</th>\n",
       "      <td>chutki</td>\n",
       "      <td>5</td>\n",
       "      <td>london</td>\n",
       "    </tr>\n",
       "    <tr>\n",
       "      <th>2</th>\n",
       "      <td>oggy</td>\n",
       "      <td>4</td>\n",
       "      <td>delhi</td>\n",
       "    </tr>\n",
       "    <tr>\n",
       "      <th>3</th>\n",
       "      <td>bob</td>\n",
       "      <td>8</td>\n",
       "      <td>paris</td>\n",
       "    </tr>\n",
       "  </tbody>\n",
       "</table>\n",
       "</div>"
      ],
      "text/plain": [
       "     name  age address\n",
       "0     tom   12  boston\n",
       "1  chutki    5  london\n",
       "2    oggy    4   delhi\n",
       "3     bob    8   paris"
      ]
     },
     "execution_count": 13,
     "metadata": {},
     "output_type": "execute_result"
    }
   ],
   "source": [
    "df"
   ]
  },
  {
   "cell_type": "markdown",
   "id": "b08c5ac8-30dd-4ca3-a3d1-8fc656bdac4c",
   "metadata": {},
   "source": [
    "#### To Change Index"
   ]
  },
  {
   "cell_type": "code",
   "execution_count": 14,
   "id": "9e9f5ce0-1761-4824-8279-88210882375f",
   "metadata": {},
   "outputs": [
    {
     "data": {
      "text/html": [
       "<div>\n",
       "<style scoped>\n",
       "    .dataframe tbody tr th:only-of-type {\n",
       "        vertical-align: middle;\n",
       "    }\n",
       "\n",
       "    .dataframe tbody tr th {\n",
       "        vertical-align: top;\n",
       "    }\n",
       "\n",
       "    .dataframe thead th {\n",
       "        text-align: right;\n",
       "    }\n",
       "</style>\n",
       "<table border=\"1\" class=\"dataframe\">\n",
       "  <thead>\n",
       "    <tr style=\"text-align: right;\">\n",
       "      <th></th>\n",
       "      <th>name</th>\n",
       "      <th>age</th>\n",
       "      <th>address</th>\n",
       "    </tr>\n",
       "  </thead>\n",
       "  <tbody>\n",
       "    <tr>\n",
       "      <th>first</th>\n",
       "      <td>tom</td>\n",
       "      <td>12</td>\n",
       "      <td>boston</td>\n",
       "    </tr>\n",
       "    <tr>\n",
       "      <th>second</th>\n",
       "      <td>chutki</td>\n",
       "      <td>5</td>\n",
       "      <td>london</td>\n",
       "    </tr>\n",
       "    <tr>\n",
       "      <th>third</th>\n",
       "      <td>oggy</td>\n",
       "      <td>4</td>\n",
       "      <td>delhi</td>\n",
       "    </tr>\n",
       "    <tr>\n",
       "      <th>fourth</th>\n",
       "      <td>bob</td>\n",
       "      <td>8</td>\n",
       "      <td>paris</td>\n",
       "    </tr>\n",
       "  </tbody>\n",
       "</table>\n",
       "</div>"
      ],
      "text/plain": [
       "          name  age address\n",
       "first      tom   12  boston\n",
       "second  chutki    5  london\n",
       "third     oggy    4   delhi\n",
       "fourth     bob    8   paris"
      ]
     },
     "execution_count": 14,
     "metadata": {},
     "output_type": "execute_result"
    }
   ],
   "source": [
    "df.index=[\"first\",\"second\",\"third\",'fourth']\n",
    "df"
   ]
  },
  {
   "cell_type": "markdown",
   "id": "66f53452-8507-44be-a5cf-f6ad605466e8",
   "metadata": {},
   "source": [
    "#### Series and Dataframes"
   ]
  },
  {
   "cell_type": "code",
   "execution_count": 15,
   "id": "3280c377-0d22-4096-80dd-cd09a26ef036",
   "metadata": {},
   "outputs": [],
   "source": [
    "#Making a series\n",
    "ser=pd.Series([\"ani\",\"suvo\",\"raju\",\"sumit\"])\n",
    "ser1=pd.Series(np.random.rand(5))"
   ]
  },
  {
   "cell_type": "code",
   "execution_count": 16,
   "id": "6a6f918c-005d-4dd5-92d0-67e3dcd38b30",
   "metadata": {},
   "outputs": [
    {
     "data": {
      "text/plain": [
       "0      ani\n",
       "1     suvo\n",
       "2     raju\n",
       "3    sumit\n",
       "dtype: object"
      ]
     },
     "execution_count": 16,
     "metadata": {},
     "output_type": "execute_result"
    }
   ],
   "source": [
    "ser"
   ]
  },
  {
   "cell_type": "code",
   "execution_count": 17,
   "id": "d2c77455-2538-456a-beba-f6d05aad8c25",
   "metadata": {},
   "outputs": [
    {
     "data": {
      "text/plain": [
       "0    0.606877\n",
       "1    0.885335\n",
       "2    0.714429\n",
       "3    0.561807\n",
       "4    0.931833\n",
       "dtype: float64"
      ]
     },
     "execution_count": 17,
     "metadata": {},
     "output_type": "execute_result"
    }
   ],
   "source": [
    "ser1"
   ]
  },
  {
   "cell_type": "code",
   "execution_count": 18,
   "id": "e6687f82-435f-4dbd-9938-c5f708527fd2",
   "metadata": {},
   "outputs": [
    {
     "data": {
      "text/plain": [
       "pandas.core.series.Series"
      ]
     },
     "execution_count": 18,
     "metadata": {},
     "output_type": "execute_result"
    }
   ],
   "source": [
    "type(ser1)"
   ]
  },
  {
   "cell_type": "code",
   "execution_count": 19,
   "id": "b6aeadc0-b880-433a-aa03-b18a96eacbb0",
   "metadata": {},
   "outputs": [],
   "source": [
    "#Making a dataframe\n",
    "daf=pd.DataFrame(np.random.rand(5,3))"
   ]
  },
  {
   "cell_type": "code",
   "execution_count": 20,
   "id": "aefc45f6-98bb-4a4d-9a36-ae4b3ce577f7",
   "metadata": {},
   "outputs": [
    {
     "data": {
      "text/html": [
       "<div>\n",
       "<style scoped>\n",
       "    .dataframe tbody tr th:only-of-type {\n",
       "        vertical-align: middle;\n",
       "    }\n",
       "\n",
       "    .dataframe tbody tr th {\n",
       "        vertical-align: top;\n",
       "    }\n",
       "\n",
       "    .dataframe thead th {\n",
       "        text-align: right;\n",
       "    }\n",
       "</style>\n",
       "<table border=\"1\" class=\"dataframe\">\n",
       "  <thead>\n",
       "    <tr style=\"text-align: right;\">\n",
       "      <th></th>\n",
       "      <th>0</th>\n",
       "      <th>1</th>\n",
       "      <th>2</th>\n",
       "    </tr>\n",
       "  </thead>\n",
       "  <tbody>\n",
       "    <tr>\n",
       "      <th>0</th>\n",
       "      <td>0.349827</td>\n",
       "      <td>0.444269</td>\n",
       "      <td>0.253964</td>\n",
       "    </tr>\n",
       "    <tr>\n",
       "      <th>1</th>\n",
       "      <td>0.598837</td>\n",
       "      <td>0.565019</td>\n",
       "      <td>0.668900</td>\n",
       "    </tr>\n",
       "    <tr>\n",
       "      <th>2</th>\n",
       "      <td>0.035374</td>\n",
       "      <td>0.337848</td>\n",
       "      <td>0.613582</td>\n",
       "    </tr>\n",
       "    <tr>\n",
       "      <th>3</th>\n",
       "      <td>0.919545</td>\n",
       "      <td>0.578930</td>\n",
       "      <td>0.780783</td>\n",
       "    </tr>\n",
       "    <tr>\n",
       "      <th>4</th>\n",
       "      <td>0.548524</td>\n",
       "      <td>0.400367</td>\n",
       "      <td>0.528506</td>\n",
       "    </tr>\n",
       "  </tbody>\n",
       "</table>\n",
       "</div>"
      ],
      "text/plain": [
       "          0         1         2\n",
       "0  0.349827  0.444269  0.253964\n",
       "1  0.598837  0.565019  0.668900\n",
       "2  0.035374  0.337848  0.613582\n",
       "3  0.919545  0.578930  0.780783\n",
       "4  0.548524  0.400367  0.528506"
      ]
     },
     "execution_count": 20,
     "metadata": {},
     "output_type": "execute_result"
    }
   ],
   "source": [
    "daf"
   ]
  },
  {
   "cell_type": "code",
   "execution_count": 21,
   "id": "e5f1ebf0-6d83-460a-9f07-669a8bfcc3f3",
   "metadata": {},
   "outputs": [
    {
     "data": {
      "text/plain": [
       "pandas.core.frame.DataFrame"
      ]
     },
     "execution_count": 21,
     "metadata": {},
     "output_type": "execute_result"
    }
   ],
   "source": [
    "type(daf)"
   ]
  },
  {
   "cell_type": "code",
   "execution_count": 22,
   "id": "e817a8b0-9e3a-4032-84d2-204624c3c2c4",
   "metadata": {},
   "outputs": [
    {
     "data": {
      "text/plain": [
       "0    float64\n",
       "1    float64\n",
       "2    float64\n",
       "dtype: object"
      ]
     },
     "execution_count": 22,
     "metadata": {},
     "output_type": "execute_result"
    }
   ],
   "source": [
    "#To find object types of column\n",
    "daf.dtypes"
   ]
  },
  {
   "cell_type": "markdown",
   "id": "4753a02d-9960-41a5-b0a9-9f7a7726c4b1",
   "metadata": {},
   "source": [
    "In a dataframe, every column contains same type of objects. Note here every column contains floating number. Now if we change one element of first column to string or some other thing, then type of this column will be 'OBJECT'."
   ]
  },
  {
   "cell_type": "code",
   "execution_count": 23,
   "id": "9ed878e9-d2df-42f1-b528-6479e8cd7273",
   "metadata": {},
   "outputs": [
    {
     "name": "stderr",
     "output_type": "stream",
     "text": [
      "C:\\Users\\SAYAN DEWANJEE\\AppData\\Local\\Temp\\ipykernel_4668\\1565559877.py:1: FutureWarning: ChainedAssignmentError: behaviour will change in pandas 3.0!\n",
      "You are setting values through chained assignment. Currently this works in certain cases, but when using Copy-on-Write (which will become the default behaviour in pandas 3.0) this will never work to update the original DataFrame or Series, because the intermediate object on which we are setting values will behave as a copy.\n",
      "A typical example is when you are setting values in a column of a DataFrame, like:\n",
      "\n",
      "df[\"col\"][row_indexer] = value\n",
      "\n",
      "Use `df.loc[row_indexer, \"col\"] = values` instead, to perform the assignment in a single step and ensure this keeps updating the original `df`.\n",
      "\n",
      "See the caveats in the documentation: https://pandas.pydata.org/pandas-docs/stable/user_guide/indexing.html#returning-a-view-versus-a-copy\n",
      "\n",
      "  daf[0][1]=\"mighty\"\n",
      "C:\\Users\\SAYAN DEWANJEE\\AppData\\Local\\Temp\\ipykernel_4668\\1565559877.py:1: FutureWarning: Setting an item of incompatible dtype is deprecated and will raise an error in a future version of pandas. Value 'mighty' has dtype incompatible with float64, please explicitly cast to a compatible dtype first.\n",
      "  daf[0][1]=\"mighty\"\n"
     ]
    }
   ],
   "source": [
    "daf[0][1]=\"mighty\""
   ]
  },
  {
   "cell_type": "code",
   "execution_count": 24,
   "id": "3ee6d6ed-860c-433c-8f28-5ffa953cfbe4",
   "metadata": {},
   "outputs": [
    {
     "data": {
      "text/html": [
       "<div>\n",
       "<style scoped>\n",
       "    .dataframe tbody tr th:only-of-type {\n",
       "        vertical-align: middle;\n",
       "    }\n",
       "\n",
       "    .dataframe tbody tr th {\n",
       "        vertical-align: top;\n",
       "    }\n",
       "\n",
       "    .dataframe thead th {\n",
       "        text-align: right;\n",
       "    }\n",
       "</style>\n",
       "<table border=\"1\" class=\"dataframe\">\n",
       "  <thead>\n",
       "    <tr style=\"text-align: right;\">\n",
       "      <th></th>\n",
       "      <th>0</th>\n",
       "      <th>1</th>\n",
       "      <th>2</th>\n",
       "    </tr>\n",
       "  </thead>\n",
       "  <tbody>\n",
       "    <tr>\n",
       "      <th>0</th>\n",
       "      <td>0.349827</td>\n",
       "      <td>0.444269</td>\n",
       "      <td>0.253964</td>\n",
       "    </tr>\n",
       "    <tr>\n",
       "      <th>1</th>\n",
       "      <td>mighty</td>\n",
       "      <td>0.565019</td>\n",
       "      <td>0.668900</td>\n",
       "    </tr>\n",
       "    <tr>\n",
       "      <th>2</th>\n",
       "      <td>0.035374</td>\n",
       "      <td>0.337848</td>\n",
       "      <td>0.613582</td>\n",
       "    </tr>\n",
       "    <tr>\n",
       "      <th>3</th>\n",
       "      <td>0.919545</td>\n",
       "      <td>0.578930</td>\n",
       "      <td>0.780783</td>\n",
       "    </tr>\n",
       "    <tr>\n",
       "      <th>4</th>\n",
       "      <td>0.548524</td>\n",
       "      <td>0.400367</td>\n",
       "      <td>0.528506</td>\n",
       "    </tr>\n",
       "  </tbody>\n",
       "</table>\n",
       "</div>"
      ],
      "text/plain": [
       "          0         1         2\n",
       "0  0.349827  0.444269  0.253964\n",
       "1    mighty  0.565019  0.668900\n",
       "2  0.035374  0.337848  0.613582\n",
       "3  0.919545  0.578930  0.780783\n",
       "4  0.548524  0.400367  0.528506"
      ]
     },
     "execution_count": 24,
     "metadata": {},
     "output_type": "execute_result"
    }
   ],
   "source": [
    "daf"
   ]
  },
  {
   "cell_type": "code",
   "execution_count": 25,
   "id": "c41a6625-3959-4ad0-ba0f-361cfb9d26c2",
   "metadata": {},
   "outputs": [
    {
     "data": {
      "text/plain": [
       "0     object\n",
       "1    float64\n",
       "2    float64\n",
       "dtype: object"
      ]
     },
     "execution_count": 25,
     "metadata": {},
     "output_type": "execute_result"
    }
   ],
   "source": [
    "daf.dtypes"
   ]
  },
  {
   "cell_type": "markdown",
   "id": "32b2dbdf-0690-4881-90a5-cc03e5a358c8",
   "metadata": {},
   "source": [
    "<h><b>#Seeing Index and columns of a dataframe</b></h>"
   ]
  },
  {
   "cell_type": "code",
   "execution_count": 26,
   "id": "a63e1587-1358-4d40-ad48-952c69b3ff36",
   "metadata": {},
   "outputs": [
    {
     "data": {
      "text/plain": [
       "RangeIndex(start=0, stop=5, step=1)"
      ]
     },
     "execution_count": 26,
     "metadata": {},
     "output_type": "execute_result"
    }
   ],
   "source": [
    "daf.index #To see index"
   ]
  },
  {
   "cell_type": "code",
   "execution_count": 27,
   "id": "84952e68-c393-4847-9de5-1f6b6f936aa3",
   "metadata": {},
   "outputs": [
    {
     "data": {
      "text/plain": [
       "RangeIndex(start=0, stop=3, step=1)"
      ]
     },
     "execution_count": 27,
     "metadata": {},
     "output_type": "execute_result"
    }
   ],
   "source": [
    "daf.columns #To see columns"
   ]
  },
  {
   "cell_type": "code",
   "execution_count": 28,
   "id": "c8bc7fab-4f2f-46a3-8969-10fb23ed2867",
   "metadata": {},
   "outputs": [
    {
     "data": {
      "text/plain": [
       "Index(['name', 'age', 'address'], dtype='object')"
      ]
     },
     "execution_count": 28,
     "metadata": {},
     "output_type": "execute_result"
    }
   ],
   "source": [
    "df.columns #See the columns of our very first DataFrame"
   ]
  },
  {
   "cell_type": "markdown",
   "id": "17e08f03-5e10-47ed-9ea7-ea2ae965811b",
   "metadata": {},
   "source": [
    "<h><b>#Changing into NumPy array</b></h>"
   ]
  },
  {
   "cell_type": "code",
   "execution_count": 29,
   "id": "42a576ca-6ac9-46f0-bba8-e7d540a3bcb2",
   "metadata": {},
   "outputs": [
    {
     "data": {
      "text/plain": [
       "array([['tom', 12, 'boston'],\n",
       "       ['chutki', 5, 'london'],\n",
       "       ['oggy', 4, 'delhi'],\n",
       "       ['bob', 8, 'paris']], dtype=object)"
      ]
     },
     "execution_count": 29,
     "metadata": {},
     "output_type": "execute_result"
    }
   ],
   "source": [
    "df.to_numpy()"
   ]
  },
  {
   "cell_type": "markdown",
   "id": "6686313a-639f-4fb1-b9c4-fcfd7e8efcf1",
   "metadata": {},
   "source": [
    "<h><b>#Taking transpose of DataFrame</b></h>\n",
    "\n",
    "So column will be changed into index and index will be changed into column"
   ]
  },
  {
   "cell_type": "code",
   "execution_count": 30,
   "id": "5af0f1ca-7da4-4540-bef1-70125f7577f8",
   "metadata": {},
   "outputs": [
    {
     "data": {
      "text/html": [
       "<div>\n",
       "<style scoped>\n",
       "    .dataframe tbody tr th:only-of-type {\n",
       "        vertical-align: middle;\n",
       "    }\n",
       "\n",
       "    .dataframe tbody tr th {\n",
       "        vertical-align: top;\n",
       "    }\n",
       "\n",
       "    .dataframe thead th {\n",
       "        text-align: right;\n",
       "    }\n",
       "</style>\n",
       "<table border=\"1\" class=\"dataframe\">\n",
       "  <thead>\n",
       "    <tr style=\"text-align: right;\">\n",
       "      <th></th>\n",
       "      <th>first</th>\n",
       "      <th>second</th>\n",
       "      <th>third</th>\n",
       "      <th>fourth</th>\n",
       "    </tr>\n",
       "  </thead>\n",
       "  <tbody>\n",
       "    <tr>\n",
       "      <th>name</th>\n",
       "      <td>tom</td>\n",
       "      <td>chutki</td>\n",
       "      <td>oggy</td>\n",
       "      <td>bob</td>\n",
       "    </tr>\n",
       "    <tr>\n",
       "      <th>age</th>\n",
       "      <td>12</td>\n",
       "      <td>5</td>\n",
       "      <td>4</td>\n",
       "      <td>8</td>\n",
       "    </tr>\n",
       "    <tr>\n",
       "      <th>address</th>\n",
       "      <td>boston</td>\n",
       "      <td>london</td>\n",
       "      <td>delhi</td>\n",
       "      <td>paris</td>\n",
       "    </tr>\n",
       "  </tbody>\n",
       "</table>\n",
       "</div>"
      ],
      "text/plain": [
       "          first  second  third fourth\n",
       "name        tom  chutki   oggy    bob\n",
       "age          12       5      4      8\n",
       "address  boston  london  delhi  paris"
      ]
     },
     "execution_count": 30,
     "metadata": {},
     "output_type": "execute_result"
    }
   ],
   "source": [
    "df.T"
   ]
  },
  {
   "cell_type": "markdown",
   "id": "577ed80e-037b-4c2e-b5f0-f30cf8addc78",
   "metadata": {},
   "source": [
    "<h><b>#Sorting a dataframe</h></b>"
   ]
  },
  {
   "cell_type": "code",
   "execution_count": 31,
   "id": "0a20a469-fa3a-4571-9663-3c1c16810153",
   "metadata": {},
   "outputs": [
    {
     "data": {
      "text/html": [
       "<div>\n",
       "<style scoped>\n",
       "    .dataframe tbody tr th:only-of-type {\n",
       "        vertical-align: middle;\n",
       "    }\n",
       "\n",
       "    .dataframe tbody tr th {\n",
       "        vertical-align: top;\n",
       "    }\n",
       "\n",
       "    .dataframe thead th {\n",
       "        text-align: right;\n",
       "    }\n",
       "</style>\n",
       "<table border=\"1\" class=\"dataframe\">\n",
       "  <thead>\n",
       "    <tr style=\"text-align: right;\">\n",
       "      <th></th>\n",
       "      <th>name</th>\n",
       "      <th>age</th>\n",
       "      <th>address</th>\n",
       "    </tr>\n",
       "  </thead>\n",
       "  <tbody>\n",
       "    <tr>\n",
       "      <th>third</th>\n",
       "      <td>oggy</td>\n",
       "      <td>4</td>\n",
       "      <td>delhi</td>\n",
       "    </tr>\n",
       "    <tr>\n",
       "      <th>second</th>\n",
       "      <td>chutki</td>\n",
       "      <td>5</td>\n",
       "      <td>london</td>\n",
       "    </tr>\n",
       "    <tr>\n",
       "      <th>fourth</th>\n",
       "      <td>bob</td>\n",
       "      <td>8</td>\n",
       "      <td>paris</td>\n",
       "    </tr>\n",
       "    <tr>\n",
       "      <th>first</th>\n",
       "      <td>tom</td>\n",
       "      <td>12</td>\n",
       "      <td>boston</td>\n",
       "    </tr>\n",
       "  </tbody>\n",
       "</table>\n",
       "</div>"
      ],
      "text/plain": [
       "          name  age address\n",
       "third     oggy    4   delhi\n",
       "second  chutki    5  london\n",
       "fourth     bob    8   paris\n",
       "first      tom   12  boston"
      ]
     },
     "execution_count": 31,
     "metadata": {},
     "output_type": "execute_result"
    }
   ],
   "source": [
    "df.sort_index(axis=0,ascending=False) "
   ]
  },
  {
   "cell_type": "markdown",
   "id": "2b9adba9-4fd6-411a-9323-d14d8f96c8d8",
   "metadata": {},
   "source": [
    "If we do not provide ascending=False then it will take it as True in geenral. So now it returns our dataframe in reverse. And axis 0 determines sorting will be done rowwise and axis=1 determines sorting will be done columnwise."
   ]
  },
  {
   "cell_type": "code",
   "execution_count": 32,
   "id": "c2cf055a-9f17-47ec-9422-bc50c5a960a6",
   "metadata": {},
   "outputs": [
    {
     "data": {
      "text/html": [
       "<div>\n",
       "<style scoped>\n",
       "    .dataframe tbody tr th:only-of-type {\n",
       "        vertical-align: middle;\n",
       "    }\n",
       "\n",
       "    .dataframe tbody tr th {\n",
       "        vertical-align: top;\n",
       "    }\n",
       "\n",
       "    .dataframe thead th {\n",
       "        text-align: right;\n",
       "    }\n",
       "</style>\n",
       "<table border=\"1\" class=\"dataframe\">\n",
       "  <thead>\n",
       "    <tr style=\"text-align: right;\">\n",
       "      <th></th>\n",
       "      <th>address</th>\n",
       "      <th>age</th>\n",
       "      <th>name</th>\n",
       "    </tr>\n",
       "  </thead>\n",
       "  <tbody>\n",
       "    <tr>\n",
       "      <th>first</th>\n",
       "      <td>boston</td>\n",
       "      <td>12</td>\n",
       "      <td>tom</td>\n",
       "    </tr>\n",
       "    <tr>\n",
       "      <th>second</th>\n",
       "      <td>london</td>\n",
       "      <td>5</td>\n",
       "      <td>chutki</td>\n",
       "    </tr>\n",
       "    <tr>\n",
       "      <th>third</th>\n",
       "      <td>delhi</td>\n",
       "      <td>4</td>\n",
       "      <td>oggy</td>\n",
       "    </tr>\n",
       "    <tr>\n",
       "      <th>fourth</th>\n",
       "      <td>paris</td>\n",
       "      <td>8</td>\n",
       "      <td>bob</td>\n",
       "    </tr>\n",
       "  </tbody>\n",
       "</table>\n",
       "</div>"
      ],
      "text/plain": [
       "       address  age    name\n",
       "first   boston   12     tom\n",
       "second  london    5  chutki\n",
       "third    delhi    4    oggy\n",
       "fourth   paris    8     bob"
      ]
     },
     "execution_count": 32,
     "metadata": {},
     "output_type": "execute_result"
    }
   ],
   "source": [
    "df.sort_index(axis=1)"
   ]
  },
  {
   "cell_type": "markdown",
   "id": "0bc5f519-12c6-4c5e-b01e-d0a3f74286f8",
   "metadata": {},
   "source": [
    "#### Command to get some selected columns"
   ]
  },
  {
   "cell_type": "code",
   "execution_count": 33,
   "id": "3d5cbd00-fcbd-4446-9fab-18c81694e355",
   "metadata": {},
   "outputs": [
    {
     "data": {
      "text/plain": [
       "first     12\n",
       "second     5\n",
       "third      4\n",
       "fourth     8\n",
       "Name: age, dtype: int64"
      ]
     },
     "execution_count": 33,
     "metadata": {},
     "output_type": "execute_result"
    }
   ],
   "source": [
    "df[\"age\"] #to get the age column"
   ]
  },
  {
   "cell_type": "code",
   "execution_count": 34,
   "id": "66fd7508-6571-4736-8f6a-3e1e8cd26945",
   "metadata": {},
   "outputs": [
    {
     "data": {
      "text/html": [
       "<div>\n",
       "<style scoped>\n",
       "    .dataframe tbody tr th:only-of-type {\n",
       "        vertical-align: middle;\n",
       "    }\n",
       "\n",
       "    .dataframe tbody tr th {\n",
       "        vertical-align: top;\n",
       "    }\n",
       "\n",
       "    .dataframe thead th {\n",
       "        text-align: right;\n",
       "    }\n",
       "</style>\n",
       "<table border=\"1\" class=\"dataframe\">\n",
       "  <thead>\n",
       "    <tr style=\"text-align: right;\">\n",
       "      <th></th>\n",
       "      <th>name</th>\n",
       "      <th>age</th>\n",
       "    </tr>\n",
       "  </thead>\n",
       "  <tbody>\n",
       "    <tr>\n",
       "      <th>first</th>\n",
       "      <td>tom</td>\n",
       "      <td>12</td>\n",
       "    </tr>\n",
       "    <tr>\n",
       "      <th>second</th>\n",
       "      <td>chutki</td>\n",
       "      <td>5</td>\n",
       "    </tr>\n",
       "    <tr>\n",
       "      <th>third</th>\n",
       "      <td>oggy</td>\n",
       "      <td>4</td>\n",
       "    </tr>\n",
       "    <tr>\n",
       "      <th>fourth</th>\n",
       "      <td>bob</td>\n",
       "      <td>8</td>\n",
       "    </tr>\n",
       "  </tbody>\n",
       "</table>\n",
       "</div>"
      ],
      "text/plain": [
       "          name  age\n",
       "first      tom   12\n",
       "second  chutki    5\n",
       "third     oggy    4\n",
       "fourth     bob    8"
      ]
     },
     "execution_count": 34,
     "metadata": {},
     "output_type": "execute_result"
    }
   ],
   "source": [
    "df[[\"name\",\"age\"]] #to get the age and name column"
   ]
  },
  {
   "cell_type": "code",
   "execution_count": 35,
   "id": "77728e99-0587-4a61-91a5-fe0634915c8e",
   "metadata": {},
   "outputs": [
    {
     "data": {
      "text/html": [
       "<div>\n",
       "<style scoped>\n",
       "    .dataframe tbody tr th:only-of-type {\n",
       "        vertical-align: middle;\n",
       "    }\n",
       "\n",
       "    .dataframe tbody tr th {\n",
       "        vertical-align: top;\n",
       "    }\n",
       "\n",
       "    .dataframe thead th {\n",
       "        text-align: right;\n",
       "    }\n",
       "</style>\n",
       "<table border=\"1\" class=\"dataframe\">\n",
       "  <thead>\n",
       "    <tr style=\"text-align: right;\">\n",
       "      <th></th>\n",
       "      <th>name</th>\n",
       "      <th>age</th>\n",
       "    </tr>\n",
       "  </thead>\n",
       "  <tbody>\n",
       "    <tr>\n",
       "      <th>first</th>\n",
       "      <td>tom</td>\n",
       "      <td>12</td>\n",
       "    </tr>\n",
       "    <tr>\n",
       "      <th>second</th>\n",
       "      <td>chutki</td>\n",
       "      <td>5</td>\n",
       "    </tr>\n",
       "  </tbody>\n",
       "</table>\n",
       "</div>"
      ],
      "text/plain": [
       "          name  age\n",
       "first      tom   12\n",
       "second  chutki    5"
      ]
     },
     "execution_count": 35,
     "metadata": {},
     "output_type": "execute_result"
    }
   ],
   "source": [
    "df[['name','age']][0:2] #we can get subset also"
   ]
  },
  {
   "cell_type": "code",
   "execution_count": 36,
   "id": "aadf3887-7478-450e-a038-d902f972b2b5",
   "metadata": {},
   "outputs": [
    {
     "data": {
      "text/html": [
       "<div>\n",
       "<style scoped>\n",
       "    .dataframe tbody tr th:only-of-type {\n",
       "        vertical-align: middle;\n",
       "    }\n",
       "\n",
       "    .dataframe tbody tr th {\n",
       "        vertical-align: top;\n",
       "    }\n",
       "\n",
       "    .dataframe thead th {\n",
       "        text-align: right;\n",
       "    }\n",
       "</style>\n",
       "<table border=\"1\" class=\"dataframe\">\n",
       "  <thead>\n",
       "    <tr style=\"text-align: right;\">\n",
       "      <th></th>\n",
       "      <th>name</th>\n",
       "      <th>age</th>\n",
       "      <th>address</th>\n",
       "    </tr>\n",
       "  </thead>\n",
       "  <tbody>\n",
       "    <tr>\n",
       "      <th>first</th>\n",
       "      <td>tom</td>\n",
       "      <td>12</td>\n",
       "      <td>boston</td>\n",
       "    </tr>\n",
       "    <tr>\n",
       "      <th>second</th>\n",
       "      <td>chutki</td>\n",
       "      <td>5</td>\n",
       "      <td>london</td>\n",
       "    </tr>\n",
       "  </tbody>\n",
       "</table>\n",
       "</div>"
      ],
      "text/plain": [
       "          name  age address\n",
       "first      tom   12  boston\n",
       "second  chutki    5  london"
      ]
     },
     "execution_count": 36,
     "metadata": {},
     "output_type": "execute_result"
    }
   ],
   "source": [
    "df[0:2]    #choosing first 2 rows"
   ]
  },
  {
   "cell_type": "code",
   "execution_count": 37,
   "id": "da29282d-4ae7-49c3-8e00-09ca948e8ece",
   "metadata": {},
   "outputs": [
    {
     "data": {
      "text/html": [
       "<div>\n",
       "<style scoped>\n",
       "    .dataframe tbody tr th:only-of-type {\n",
       "        vertical-align: middle;\n",
       "    }\n",
       "\n",
       "    .dataframe tbody tr th {\n",
       "        vertical-align: top;\n",
       "    }\n",
       "\n",
       "    .dataframe thead th {\n",
       "        text-align: right;\n",
       "    }\n",
       "</style>\n",
       "<table border=\"1\" class=\"dataframe\">\n",
       "  <thead>\n",
       "    <tr style=\"text-align: right;\">\n",
       "      <th></th>\n",
       "      <th>name</th>\n",
       "      <th>age</th>\n",
       "    </tr>\n",
       "  </thead>\n",
       "  <tbody>\n",
       "    <tr>\n",
       "      <th>first</th>\n",
       "      <td>tom</td>\n",
       "      <td>12</td>\n",
       "    </tr>\n",
       "    <tr>\n",
       "      <th>second</th>\n",
       "      <td>chutki</td>\n",
       "      <td>5</td>\n",
       "    </tr>\n",
       "    <tr>\n",
       "      <th>third</th>\n",
       "      <td>oggy</td>\n",
       "      <td>4</td>\n",
       "    </tr>\n",
       "    <tr>\n",
       "      <th>fourth</th>\n",
       "      <td>bob</td>\n",
       "      <td>8</td>\n",
       "    </tr>\n",
       "  </tbody>\n",
       "</table>\n",
       "</div>"
      ],
      "text/plain": [
       "          name  age\n",
       "first      tom   12\n",
       "second  chutki    5\n",
       "third     oggy    4\n",
       "fourth     bob    8"
      ]
     },
     "execution_count": 37,
     "metadata": {},
     "output_type": "execute_result"
    }
   ],
   "source": [
    "df[['name','age']]   #choosing first 2 columns"
   ]
  },
  {
   "cell_type": "markdown",
   "id": "890f9421-21ae-4a4b-b95d-009f922b1ead",
   "metadata": {},
   "source": [
    "To slice column now we will use 2 functions - iloc and loc"
   ]
  },
  {
   "cell_type": "markdown",
   "id": "b2bbd8c7-0c67-4d42-b307-131ed55a0866",
   "metadata": {},
   "source": [
    "#### Using iLoc and Loc function"
   ]
  },
  {
   "cell_type": "markdown",
   "id": "362ecc57-2b31-4e5b-9708-ed420c45c5ea",
   "metadata": {},
   "source": [
    "Using loc and iloc function helps us to filter and retrieve our dataset much efficiently. Loc refers to location indexing and ILoc refers to integer indexing."
   ]
  },
  {
   "cell_type": "markdown",
   "id": "63b8b466-e344-4e01-b4c5-6c51ae38c223",
   "metadata": {},
   "source": [
    "##### Loc:\n",
    "If we want to get some specific rows like row 0 and row 4 ,then we can not do it in previous manner. So we have to use it thorugh Loc function."
   ]
  },
  {
   "cell_type": "code",
   "execution_count": 38,
   "id": "53a2c601-277d-4c84-b001-3e29cba9862f",
   "metadata": {},
   "outputs": [
    {
     "data": {
      "text/html": [
       "<div>\n",
       "<style scoped>\n",
       "    .dataframe tbody tr th:only-of-type {\n",
       "        vertical-align: middle;\n",
       "    }\n",
       "\n",
       "    .dataframe tbody tr th {\n",
       "        vertical-align: top;\n",
       "    }\n",
       "\n",
       "    .dataframe thead th {\n",
       "        text-align: right;\n",
       "    }\n",
       "</style>\n",
       "<table border=\"1\" class=\"dataframe\">\n",
       "  <thead>\n",
       "    <tr style=\"text-align: right;\">\n",
       "      <th></th>\n",
       "      <th>name</th>\n",
       "      <th>address</th>\n",
       "    </tr>\n",
       "  </thead>\n",
       "  <tbody>\n",
       "    <tr>\n",
       "      <th>first</th>\n",
       "      <td>tom</td>\n",
       "      <td>boston</td>\n",
       "    </tr>\n",
       "    <tr>\n",
       "      <th>fourth</th>\n",
       "      <td>bob</td>\n",
       "      <td>paris</td>\n",
       "    </tr>\n",
       "  </tbody>\n",
       "</table>\n",
       "</div>"
      ],
      "text/plain": [
       "       name address\n",
       "first   tom  boston\n",
       "fourth  bob   paris"
      ]
     },
     "execution_count": 38,
     "metadata": {},
     "output_type": "execute_result"
    }
   ],
   "source": [
    "df.loc[[\"first\",\"fourth\"],[\"name\",\"address\"]]"
   ]
  },
  {
   "cell_type": "code",
   "execution_count": 39,
   "id": "b13b8a0d-06ce-4618-9ba2-bf094d3f468e",
   "metadata": {},
   "outputs": [
    {
     "data": {
      "text/html": [
       "<div>\n",
       "<style scoped>\n",
       "    .dataframe tbody tr th:only-of-type {\n",
       "        vertical-align: middle;\n",
       "    }\n",
       "\n",
       "    .dataframe tbody tr th {\n",
       "        vertical-align: top;\n",
       "    }\n",
       "\n",
       "    .dataframe thead th {\n",
       "        text-align: right;\n",
       "    }\n",
       "</style>\n",
       "<table border=\"1\" class=\"dataframe\">\n",
       "  <thead>\n",
       "    <tr style=\"text-align: right;\">\n",
       "      <th></th>\n",
       "      <th>1</th>\n",
       "    </tr>\n",
       "  </thead>\n",
       "  <tbody>\n",
       "    <tr>\n",
       "      <th>0</th>\n",
       "      <td>0.444269</td>\n",
       "    </tr>\n",
       "    <tr>\n",
       "      <th>2</th>\n",
       "      <td>0.337848</td>\n",
       "    </tr>\n",
       "    <tr>\n",
       "      <th>4</th>\n",
       "      <td>0.400367</td>\n",
       "    </tr>\n",
       "  </tbody>\n",
       "</table>\n",
       "</div>"
      ],
      "text/plain": [
       "          1\n",
       "0  0.444269\n",
       "2  0.337848\n",
       "4  0.400367"
      ]
     },
     "execution_count": 39,
     "metadata": {},
     "output_type": "execute_result"
    }
   ],
   "source": [
    "daf.loc[[0,2,4],[1]]  #so first square bracket is dtermining row index and second square bracket determines column name"
   ]
  },
  {
   "cell_type": "code",
   "execution_count": 40,
   "id": "9b9c8013-aae9-4260-8dab-d5821816ea77",
   "metadata": {},
   "outputs": [
    {
     "data": {
      "text/html": [
       "<div>\n",
       "<style scoped>\n",
       "    .dataframe tbody tr th:only-of-type {\n",
       "        vertical-align: middle;\n",
       "    }\n",
       "\n",
       "    .dataframe tbody tr th {\n",
       "        vertical-align: top;\n",
       "    }\n",
       "\n",
       "    .dataframe thead th {\n",
       "        text-align: right;\n",
       "    }\n",
       "</style>\n",
       "<table border=\"1\" class=\"dataframe\">\n",
       "  <thead>\n",
       "    <tr style=\"text-align: right;\">\n",
       "      <th></th>\n",
       "      <th>age</th>\n",
       "    </tr>\n",
       "  </thead>\n",
       "  <tbody>\n",
       "    <tr>\n",
       "      <th>first</th>\n",
       "      <td>12</td>\n",
       "    </tr>\n",
       "    <tr>\n",
       "      <th>second</th>\n",
       "      <td>5</td>\n",
       "    </tr>\n",
       "    <tr>\n",
       "      <th>third</th>\n",
       "      <td>4</td>\n",
       "    </tr>\n",
       "    <tr>\n",
       "      <th>fourth</th>\n",
       "      <td>8</td>\n",
       "    </tr>\n",
       "  </tbody>\n",
       "</table>\n",
       "</div>"
      ],
      "text/plain": [
       "        age\n",
       "first    12\n",
       "second    5\n",
       "third     4\n",
       "fourth    8"
      ]
     },
     "execution_count": 40,
     "metadata": {},
     "output_type": "execute_result"
    }
   ],
   "source": [
    "df.loc[:,['age']]  #to get all rows"
   ]
  },
  {
   "cell_type": "code",
   "execution_count": 41,
   "id": "041ea158-7607-47ec-a7d4-2b3dcdeb92ea",
   "metadata": {},
   "outputs": [
    {
     "data": {
      "text/html": [
       "<div>\n",
       "<style scoped>\n",
       "    .dataframe tbody tr th:only-of-type {\n",
       "        vertical-align: middle;\n",
       "    }\n",
       "\n",
       "    .dataframe tbody tr th {\n",
       "        vertical-align: top;\n",
       "    }\n",
       "\n",
       "    .dataframe thead th {\n",
       "        text-align: right;\n",
       "    }\n",
       "</style>\n",
       "<table border=\"1\" class=\"dataframe\">\n",
       "  <thead>\n",
       "    <tr style=\"text-align: right;\">\n",
       "      <th></th>\n",
       "      <th>name</th>\n",
       "      <th>age</th>\n",
       "      <th>address</th>\n",
       "    </tr>\n",
       "  </thead>\n",
       "  <tbody>\n",
       "    <tr>\n",
       "      <th>first</th>\n",
       "      <td>tom</td>\n",
       "      <td>12</td>\n",
       "      <td>boston</td>\n",
       "    </tr>\n",
       "    <tr>\n",
       "      <th>second</th>\n",
       "      <td>chutki</td>\n",
       "      <td>5</td>\n",
       "      <td>london</td>\n",
       "    </tr>\n",
       "    <tr>\n",
       "      <th>fourth</th>\n",
       "      <td>bob</td>\n",
       "      <td>8</td>\n",
       "      <td>paris</td>\n",
       "    </tr>\n",
       "  </tbody>\n",
       "</table>\n",
       "</div>"
      ],
      "text/plain": [
       "          name  age address\n",
       "first      tom   12  boston\n",
       "second  chutki    5  london\n",
       "fourth     bob    8   paris"
      ]
     },
     "execution_count": 41,
     "metadata": {},
     "output_type": "execute_result"
    }
   ],
   "source": [
    "df.loc[[\"first\",\"second\",\"fourth\"],:]   #to get all columns"
   ]
  },
  {
   "cell_type": "markdown",
   "id": "f9d27406-336f-43ed-9d9d-cd2d451f4e0e",
   "metadata": {},
   "source": [
    "##### ILoc: \n",
    "ILoc is same as Loc function. The differrence is Loc needs to row or column to operate whether Iloc needs their position.If we want to get first row we will provide 0 through ILoc function not that row index.Same for column- we will use 1 for second column instead of column name."
   ]
  },
  {
   "cell_type": "code",
   "execution_count": 42,
   "id": "3cb68706-7124-4dbd-a832-dc16174d9179",
   "metadata": {},
   "outputs": [
    {
     "data": {
      "text/html": [
       "<div>\n",
       "<style scoped>\n",
       "    .dataframe tbody tr th:only-of-type {\n",
       "        vertical-align: middle;\n",
       "    }\n",
       "\n",
       "    .dataframe tbody tr th {\n",
       "        vertical-align: top;\n",
       "    }\n",
       "\n",
       "    .dataframe thead th {\n",
       "        text-align: right;\n",
       "    }\n",
       "</style>\n",
       "<table border=\"1\" class=\"dataframe\">\n",
       "  <thead>\n",
       "    <tr style=\"text-align: right;\">\n",
       "      <th></th>\n",
       "      <th>name</th>\n",
       "      <th>age</th>\n",
       "      <th>address</th>\n",
       "    </tr>\n",
       "  </thead>\n",
       "  <tbody>\n",
       "    <tr>\n",
       "      <th>first</th>\n",
       "      <td>tom</td>\n",
       "      <td>12</td>\n",
       "      <td>boston</td>\n",
       "    </tr>\n",
       "    <tr>\n",
       "      <th>second</th>\n",
       "      <td>chutki</td>\n",
       "      <td>5</td>\n",
       "      <td>london</td>\n",
       "    </tr>\n",
       "    <tr>\n",
       "      <th>fourth</th>\n",
       "      <td>bob</td>\n",
       "      <td>8</td>\n",
       "      <td>paris</td>\n",
       "    </tr>\n",
       "  </tbody>\n",
       "</table>\n",
       "</div>"
      ],
      "text/plain": [
       "          name  age address\n",
       "first      tom   12  boston\n",
       "second  chutki    5  london\n",
       "fourth     bob    8   paris"
      ]
     },
     "execution_count": 42,
     "metadata": {},
     "output_type": "execute_result"
    }
   ],
   "source": [
    "df.iloc[[0,1,3],:]  #getting  3 row"
   ]
  },
  {
   "cell_type": "code",
   "execution_count": 43,
   "id": "c0678dd1-ae97-4831-af43-f052c088ab8a",
   "metadata": {},
   "outputs": [
    {
     "data": {
      "text/html": [
       "<div>\n",
       "<style scoped>\n",
       "    .dataframe tbody tr th:only-of-type {\n",
       "        vertical-align: middle;\n",
       "    }\n",
       "\n",
       "    .dataframe tbody tr th {\n",
       "        vertical-align: top;\n",
       "    }\n",
       "\n",
       "    .dataframe thead th {\n",
       "        text-align: right;\n",
       "    }\n",
       "</style>\n",
       "<table border=\"1\" class=\"dataframe\">\n",
       "  <thead>\n",
       "    <tr style=\"text-align: right;\">\n",
       "      <th></th>\n",
       "      <th>name</th>\n",
       "      <th>age</th>\n",
       "      <th>address</th>\n",
       "    </tr>\n",
       "  </thead>\n",
       "  <tbody>\n",
       "    <tr>\n",
       "      <th>first</th>\n",
       "      <td>tom</td>\n",
       "      <td>12</td>\n",
       "      <td>boston</td>\n",
       "    </tr>\n",
       "    <tr>\n",
       "      <th>second</th>\n",
       "      <td>chutki</td>\n",
       "      <td>5</td>\n",
       "      <td>london</td>\n",
       "    </tr>\n",
       "    <tr>\n",
       "      <th>third</th>\n",
       "      <td>oggy</td>\n",
       "      <td>4</td>\n",
       "      <td>delhi</td>\n",
       "    </tr>\n",
       "  </tbody>\n",
       "</table>\n",
       "</div>"
      ],
      "text/plain": [
       "          name  age address\n",
       "first      tom   12  boston\n",
       "second  chutki    5  london\n",
       "third     oggy    4   delhi"
      ]
     },
     "execution_count": 43,
     "metadata": {},
     "output_type": "execute_result"
    }
   ],
   "source": [
    "df.iloc[0:3,:]"
   ]
  },
  {
   "cell_type": "code",
   "execution_count": 44,
   "id": "99d3e373-f8a2-4168-a774-c24ef759b765",
   "metadata": {},
   "outputs": [
    {
     "data": {
      "text/html": [
       "<div>\n",
       "<style scoped>\n",
       "    .dataframe tbody tr th:only-of-type {\n",
       "        vertical-align: middle;\n",
       "    }\n",
       "\n",
       "    .dataframe tbody tr th {\n",
       "        vertical-align: top;\n",
       "    }\n",
       "\n",
       "    .dataframe thead th {\n",
       "        text-align: right;\n",
       "    }\n",
       "</style>\n",
       "<table border=\"1\" class=\"dataframe\">\n",
       "  <thead>\n",
       "    <tr style=\"text-align: right;\">\n",
       "      <th></th>\n",
       "      <th>name</th>\n",
       "      <th>address</th>\n",
       "    </tr>\n",
       "  </thead>\n",
       "  <tbody>\n",
       "    <tr>\n",
       "      <th>first</th>\n",
       "      <td>tom</td>\n",
       "      <td>boston</td>\n",
       "    </tr>\n",
       "    <tr>\n",
       "      <th>fourth</th>\n",
       "      <td>bob</td>\n",
       "      <td>paris</td>\n",
       "    </tr>\n",
       "  </tbody>\n",
       "</table>\n",
       "</div>"
      ],
      "text/plain": [
       "       name address\n",
       "first   tom  boston\n",
       "fourth  bob   paris"
      ]
     },
     "execution_count": 44,
     "metadata": {},
     "output_type": "execute_result"
    }
   ],
   "source": [
    "df.iloc[[0,3],[0,2]]  #slicing dataframe"
   ]
  },
  {
   "cell_type": "markdown",
   "id": "0d352a13-5a02-45a0-a2bf-e0db3cfa7bc8",
   "metadata": {},
   "source": [
    "##### Basic query through pandas"
   ]
  },
  {
   "cell_type": "markdown",
   "id": "6a4bd799-be4b-4136-812c-1ccd4fc9c19a",
   "metadata": {},
   "source": [
    "Now we will make basic query through pandas.Let we want to get those rows where column 1 of dataframe daf has value less than 0.5.We will do this in following way :"
   ]
  },
  {
   "cell_type": "code",
   "execution_count": 45,
   "id": "1ff361c4-81d3-45f2-96e6-efbf58974cbe",
   "metadata": {},
   "outputs": [
    {
     "data": {
      "text/html": [
       "<div>\n",
       "<style scoped>\n",
       "    .dataframe tbody tr th:only-of-type {\n",
       "        vertical-align: middle;\n",
       "    }\n",
       "\n",
       "    .dataframe tbody tr th {\n",
       "        vertical-align: top;\n",
       "    }\n",
       "\n",
       "    .dataframe thead th {\n",
       "        text-align: right;\n",
       "    }\n",
       "</style>\n",
       "<table border=\"1\" class=\"dataframe\">\n",
       "  <thead>\n",
       "    <tr style=\"text-align: right;\">\n",
       "      <th></th>\n",
       "      <th>0</th>\n",
       "      <th>1</th>\n",
       "      <th>2</th>\n",
       "    </tr>\n",
       "  </thead>\n",
       "  <tbody>\n",
       "    <tr>\n",
       "      <th>0</th>\n",
       "      <td>0.349827</td>\n",
       "      <td>0.444269</td>\n",
       "      <td>0.253964</td>\n",
       "    </tr>\n",
       "    <tr>\n",
       "      <th>2</th>\n",
       "      <td>0.035374</td>\n",
       "      <td>0.337848</td>\n",
       "      <td>0.613582</td>\n",
       "    </tr>\n",
       "    <tr>\n",
       "      <th>4</th>\n",
       "      <td>0.548524</td>\n",
       "      <td>0.400367</td>\n",
       "      <td>0.528506</td>\n",
       "    </tr>\n",
       "  </tbody>\n",
       "</table>\n",
       "</div>"
      ],
      "text/plain": [
       "          0         1         2\n",
       "0  0.349827  0.444269  0.253964\n",
       "2  0.035374  0.337848  0.613582\n",
       "4  0.548524  0.400367  0.528506"
      ]
     },
     "execution_count": 45,
     "metadata": {},
     "output_type": "execute_result"
    }
   ],
   "source": [
    "daf.loc[(daf[1]<0.5)]             #Our query"
   ]
  },
  {
   "cell_type": "markdown",
   "id": "b38da97f-d063-4098-928b-71abce8db3f4",
   "metadata": {},
   "source": [
    "Whta is happening here? Basically (daf[1]<0.5) returns a series of boolean value and then we pass it true daf.loc. And where true value ocurrs it returns that row."
   ]
  },
  {
   "cell_type": "code",
   "execution_count": 46,
   "id": "ffd13f15-3c95-4fcd-86e3-9050bdcaa9e8",
   "metadata": {},
   "outputs": [
    {
     "data": {
      "text/plain": [
       "0     True\n",
       "1    False\n",
       "2     True\n",
       "3    False\n",
       "4     True\n",
       "Name: 1, dtype: bool"
      ]
     },
     "execution_count": 46,
     "metadata": {},
     "output_type": "execute_result"
    }
   ],
   "source": [
    "(daf[1]<0.5)      #returning a series of boolean value"
   ]
  },
  {
   "cell_type": "code",
   "execution_count": 47,
   "id": "3d0744db-0e10-443c-a7aa-bed5985ab242",
   "metadata": {},
   "outputs": [
    {
     "data": {
      "text/html": [
       "<div>\n",
       "<style scoped>\n",
       "    .dataframe tbody tr th:only-of-type {\n",
       "        vertical-align: middle;\n",
       "    }\n",
       "\n",
       "    .dataframe tbody tr th {\n",
       "        vertical-align: top;\n",
       "    }\n",
       "\n",
       "    .dataframe thead th {\n",
       "        text-align: right;\n",
       "    }\n",
       "</style>\n",
       "<table border=\"1\" class=\"dataframe\">\n",
       "  <thead>\n",
       "    <tr style=\"text-align: right;\">\n",
       "      <th></th>\n",
       "      <th>0</th>\n",
       "      <th>1</th>\n",
       "      <th>2</th>\n",
       "    </tr>\n",
       "  </thead>\n",
       "  <tbody>\n",
       "    <tr>\n",
       "      <th>0</th>\n",
       "      <td>0.349827</td>\n",
       "      <td>0.444269</td>\n",
       "      <td>0.253964</td>\n",
       "    </tr>\n",
       "    <tr>\n",
       "      <th>1</th>\n",
       "      <td>mighty</td>\n",
       "      <td>0.565019</td>\n",
       "      <td>0.668900</td>\n",
       "    </tr>\n",
       "    <tr>\n",
       "      <th>4</th>\n",
       "      <td>0.548524</td>\n",
       "      <td>0.400367</td>\n",
       "      <td>0.528506</td>\n",
       "    </tr>\n",
       "  </tbody>\n",
       "</table>\n",
       "</div>"
      ],
      "text/plain": [
       "          0         1         2\n",
       "0  0.349827  0.444269  0.253964\n",
       "1    mighty  0.565019  0.668900\n",
       "4  0.548524  0.400367  0.528506"
      ]
     },
     "execution_count": 47,
     "metadata": {},
     "output_type": "execute_result"
    }
   ],
   "source": [
    "daf.loc[[True,True,False,False,True]]           #searching and taking out those row"
   ]
  },
  {
   "cell_type": "markdown",
   "id": "b01336f8-81bf-4d0d-9ad6-ce8dd0d76dce",
   "metadata": {},
   "source": [
    "##### Dropping column and rows"
   ]
  },
  {
   "cell_type": "markdown",
   "id": "16b86041-6a47-4a7b-abd5-3f7753e07904",
   "metadata": {},
   "source": [
    "Now let we want to drop column 0 from our dataframe daf. The command is drop()."
   ]
  },
  {
   "cell_type": "code",
   "execution_count": 48,
   "id": "d7ed0a7c-0502-47d8-91a2-124d620c1076",
   "metadata": {},
   "outputs": [
    {
     "data": {
      "text/html": [
       "<div>\n",
       "<style scoped>\n",
       "    .dataframe tbody tr th:only-of-type {\n",
       "        vertical-align: middle;\n",
       "    }\n",
       "\n",
       "    .dataframe tbody tr th {\n",
       "        vertical-align: top;\n",
       "    }\n",
       "\n",
       "    .dataframe thead th {\n",
       "        text-align: right;\n",
       "    }\n",
       "</style>\n",
       "<table border=\"1\" class=\"dataframe\">\n",
       "  <thead>\n",
       "    <tr style=\"text-align: right;\">\n",
       "      <th></th>\n",
       "      <th>0</th>\n",
       "      <th>1</th>\n",
       "      <th>2</th>\n",
       "    </tr>\n",
       "  </thead>\n",
       "  <tbody>\n",
       "    <tr>\n",
       "      <th>1</th>\n",
       "      <td>mighty</td>\n",
       "      <td>0.565019</td>\n",
       "      <td>0.668900</td>\n",
       "    </tr>\n",
       "    <tr>\n",
       "      <th>2</th>\n",
       "      <td>0.035374</td>\n",
       "      <td>0.337848</td>\n",
       "      <td>0.613582</td>\n",
       "    </tr>\n",
       "    <tr>\n",
       "      <th>3</th>\n",
       "      <td>0.919545</td>\n",
       "      <td>0.578930</td>\n",
       "      <td>0.780783</td>\n",
       "    </tr>\n",
       "    <tr>\n",
       "      <th>4</th>\n",
       "      <td>0.548524</td>\n",
       "      <td>0.400367</td>\n",
       "      <td>0.528506</td>\n",
       "    </tr>\n",
       "  </tbody>\n",
       "</table>\n",
       "</div>"
      ],
      "text/plain": [
       "          0         1         2\n",
       "1    mighty  0.565019  0.668900\n",
       "2  0.035374  0.337848  0.613582\n",
       "3  0.919545  0.578930  0.780783\n",
       "4  0.548524  0.400367  0.528506"
      ]
     },
     "execution_count": 48,
     "metadata": {},
     "output_type": "execute_result"
    }
   ],
   "source": [
    "daf.drop([0])"
   ]
  },
  {
   "cell_type": "markdown",
   "id": "4366edde-2ddf-4871-8ffb-710fb4281824",
   "metadata": {},
   "source": [
    "But here we want to drop column 0 .So here we have to mention axis=1."
   ]
  },
  {
   "cell_type": "code",
   "execution_count": 49,
   "id": "d40c588b-34a2-4574-84cc-2158bfe1b7c4",
   "metadata": {},
   "outputs": [
    {
     "data": {
      "text/html": [
       "<div>\n",
       "<style scoped>\n",
       "    .dataframe tbody tr th:only-of-type {\n",
       "        vertical-align: middle;\n",
       "    }\n",
       "\n",
       "    .dataframe tbody tr th {\n",
       "        vertical-align: top;\n",
       "    }\n",
       "\n",
       "    .dataframe thead th {\n",
       "        text-align: right;\n",
       "    }\n",
       "</style>\n",
       "<table border=\"1\" class=\"dataframe\">\n",
       "  <thead>\n",
       "    <tr style=\"text-align: right;\">\n",
       "      <th></th>\n",
       "      <th>1</th>\n",
       "      <th>2</th>\n",
       "    </tr>\n",
       "  </thead>\n",
       "  <tbody>\n",
       "    <tr>\n",
       "      <th>0</th>\n",
       "      <td>0.444269</td>\n",
       "      <td>0.253964</td>\n",
       "    </tr>\n",
       "    <tr>\n",
       "      <th>1</th>\n",
       "      <td>0.565019</td>\n",
       "      <td>0.668900</td>\n",
       "    </tr>\n",
       "    <tr>\n",
       "      <th>2</th>\n",
       "      <td>0.337848</td>\n",
       "      <td>0.613582</td>\n",
       "    </tr>\n",
       "    <tr>\n",
       "      <th>3</th>\n",
       "      <td>0.578930</td>\n",
       "      <td>0.780783</td>\n",
       "    </tr>\n",
       "    <tr>\n",
       "      <th>4</th>\n",
       "      <td>0.400367</td>\n",
       "      <td>0.528506</td>\n",
       "    </tr>\n",
       "  </tbody>\n",
       "</table>\n",
       "</div>"
      ],
      "text/plain": [
       "          1         2\n",
       "0  0.444269  0.253964\n",
       "1  0.565019  0.668900\n",
       "2  0.337848  0.613582\n",
       "3  0.578930  0.780783\n",
       "4  0.400367  0.528506"
      ]
     },
     "execution_count": 49,
     "metadata": {},
     "output_type": "execute_result"
    }
   ],
   "source": [
    "daf.drop([0],axis=1)  "
   ]
  },
  {
   "cell_type": "markdown",
   "id": "22f93335-13c1-4a01-9e58-b843eeee5678",
   "metadata": {},
   "source": [
    "Note this drop function does not alter daf dataframe. It just makes a copy. If we want to permanenttly store this we have to provide inplace=True"
   ]
  },
  {
   "cell_type": "code",
   "execution_count": 50,
   "id": "5b49b315-3243-4935-943f-5d64a703e31f",
   "metadata": {},
   "outputs": [],
   "source": [
    "daf.drop([0],axis=1,inplace=True) "
   ]
  },
  {
   "cell_type": "code",
   "execution_count": 51,
   "id": "9e53c85b-1cc0-44f2-9216-febfa7a3e572",
   "metadata": {},
   "outputs": [
    {
     "data": {
      "text/html": [
       "<div>\n",
       "<style scoped>\n",
       "    .dataframe tbody tr th:only-of-type {\n",
       "        vertical-align: middle;\n",
       "    }\n",
       "\n",
       "    .dataframe tbody tr th {\n",
       "        vertical-align: top;\n",
       "    }\n",
       "\n",
       "    .dataframe thead th {\n",
       "        text-align: right;\n",
       "    }\n",
       "</style>\n",
       "<table border=\"1\" class=\"dataframe\">\n",
       "  <thead>\n",
       "    <tr style=\"text-align: right;\">\n",
       "      <th></th>\n",
       "      <th>1</th>\n",
       "      <th>2</th>\n",
       "    </tr>\n",
       "  </thead>\n",
       "  <tbody>\n",
       "    <tr>\n",
       "      <th>0</th>\n",
       "      <td>0.444269</td>\n",
       "      <td>0.253964</td>\n",
       "    </tr>\n",
       "    <tr>\n",
       "      <th>1</th>\n",
       "      <td>0.565019</td>\n",
       "      <td>0.668900</td>\n",
       "    </tr>\n",
       "  </tbody>\n",
       "</table>\n",
       "</div>"
      ],
      "text/plain": [
       "          1         2\n",
       "0  0.444269  0.253964\n",
       "1  0.565019  0.668900"
      ]
     },
     "execution_count": 51,
     "metadata": {},
     "output_type": "execute_result"
    }
   ],
   "source": [
    "daf.head(2)            #note column 0 is removed"
   ]
  },
  {
   "cell_type": "code",
   "execution_count": 52,
   "id": "7455692c-8612-4d6a-9f96-c92102262cf3",
   "metadata": {},
   "outputs": [
    {
     "data": {
      "text/html": [
       "<div>\n",
       "<style scoped>\n",
       "    .dataframe tbody tr th:only-of-type {\n",
       "        vertical-align: middle;\n",
       "    }\n",
       "\n",
       "    .dataframe tbody tr th {\n",
       "        vertical-align: top;\n",
       "    }\n",
       "\n",
       "    .dataframe thead th {\n",
       "        text-align: right;\n",
       "    }\n",
       "</style>\n",
       "<table border=\"1\" class=\"dataframe\">\n",
       "  <thead>\n",
       "    <tr style=\"text-align: right;\">\n",
       "      <th></th>\n",
       "      <th>age</th>\n",
       "      <th>address</th>\n",
       "    </tr>\n",
       "  </thead>\n",
       "  <tbody>\n",
       "    <tr>\n",
       "      <th>first</th>\n",
       "      <td>12</td>\n",
       "      <td>boston</td>\n",
       "    </tr>\n",
       "    <tr>\n",
       "      <th>second</th>\n",
       "      <td>5</td>\n",
       "      <td>london</td>\n",
       "    </tr>\n",
       "    <tr>\n",
       "      <th>third</th>\n",
       "      <td>4</td>\n",
       "      <td>delhi</td>\n",
       "    </tr>\n",
       "    <tr>\n",
       "      <th>fourth</th>\n",
       "      <td>8</td>\n",
       "      <td>paris</td>\n",
       "    </tr>\n",
       "  </tbody>\n",
       "</table>\n",
       "</div>"
      ],
      "text/plain": [
       "        age address\n",
       "first    12  boston\n",
       "second    5  london\n",
       "third     4   delhi\n",
       "fourth    8   paris"
      ]
     },
     "execution_count": 52,
     "metadata": {},
     "output_type": "execute_result"
    }
   ],
   "source": [
    "df.drop([\"name\"],axis=1)"
   ]
  },
  {
   "cell_type": "code",
   "execution_count": 53,
   "id": "466bc0fd-be3c-429c-aff6-21a31e29108f",
   "metadata": {},
   "outputs": [
    {
     "data": {
      "text/html": [
       "<div>\n",
       "<style scoped>\n",
       "    .dataframe tbody tr th:only-of-type {\n",
       "        vertical-align: middle;\n",
       "    }\n",
       "\n",
       "    .dataframe tbody tr th {\n",
       "        vertical-align: top;\n",
       "    }\n",
       "\n",
       "    .dataframe thead th {\n",
       "        text-align: right;\n",
       "    }\n",
       "</style>\n",
       "<table border=\"1\" class=\"dataframe\">\n",
       "  <thead>\n",
       "    <tr style=\"text-align: right;\">\n",
       "      <th></th>\n",
       "      <th>name</th>\n",
       "      <th>age</th>\n",
       "      <th>address</th>\n",
       "    </tr>\n",
       "  </thead>\n",
       "  <tbody>\n",
       "    <tr>\n",
       "      <th>second</th>\n",
       "      <td>chutki</td>\n",
       "      <td>5</td>\n",
       "      <td>london</td>\n",
       "    </tr>\n",
       "    <tr>\n",
       "      <th>fourth</th>\n",
       "      <td>bob</td>\n",
       "      <td>8</td>\n",
       "      <td>paris</td>\n",
       "    </tr>\n",
       "  </tbody>\n",
       "</table>\n",
       "</div>"
      ],
      "text/plain": [
       "          name  age address\n",
       "second  chutki    5  london\n",
       "fourth     bob    8   paris"
      ]
     },
     "execution_count": 53,
     "metadata": {},
     "output_type": "execute_result"
    }
   ],
   "source": [
    "df.drop([\"first\",'third'])"
   ]
  },
  {
   "cell_type": "markdown",
   "id": "b7c15f6d-9a74-4ad2-ae5b-3a441ee7f49f",
   "metadata": {},
   "source": [
    "##### Reset Index"
   ]
  },
  {
   "cell_type": "markdown",
   "id": "36eae3c5-5a67-4a47-a0fe-8e2bdcf3755c",
   "metadata": {},
   "source": [
    "Let we delete some rows and now we want to reset index from 0. So we have to use reset_index command.See in the following section"
   ]
  },
  {
   "cell_type": "code",
   "execution_count": 54,
   "id": "77d7ea96-852c-4488-b0f9-f7e59ea615d8",
   "metadata": {},
   "outputs": [],
   "source": [
    "daf.drop([0,3],inplace=True)    #deleting rows"
   ]
  },
  {
   "cell_type": "code",
   "execution_count": 55,
   "id": "4e791a9e-bce8-4e8d-9e1c-4647fed02f83",
   "metadata": {},
   "outputs": [
    {
     "data": {
      "text/html": [
       "<div>\n",
       "<style scoped>\n",
       "    .dataframe tbody tr th:only-of-type {\n",
       "        vertical-align: middle;\n",
       "    }\n",
       "\n",
       "    .dataframe tbody tr th {\n",
       "        vertical-align: top;\n",
       "    }\n",
       "\n",
       "    .dataframe thead th {\n",
       "        text-align: right;\n",
       "    }\n",
       "</style>\n",
       "<table border=\"1\" class=\"dataframe\">\n",
       "  <thead>\n",
       "    <tr style=\"text-align: right;\">\n",
       "      <th></th>\n",
       "      <th>1</th>\n",
       "      <th>2</th>\n",
       "    </tr>\n",
       "  </thead>\n",
       "  <tbody>\n",
       "    <tr>\n",
       "      <th>1</th>\n",
       "      <td>0.565019</td>\n",
       "      <td>0.668900</td>\n",
       "    </tr>\n",
       "    <tr>\n",
       "      <th>2</th>\n",
       "      <td>0.337848</td>\n",
       "      <td>0.613582</td>\n",
       "    </tr>\n",
       "    <tr>\n",
       "      <th>4</th>\n",
       "      <td>0.400367</td>\n",
       "      <td>0.528506</td>\n",
       "    </tr>\n",
       "  </tbody>\n",
       "</table>\n",
       "</div>"
      ],
      "text/plain": [
       "          1         2\n",
       "1  0.565019  0.668900\n",
       "2  0.337848  0.613582\n",
       "4  0.400367  0.528506"
      ]
     },
     "execution_count": 55,
     "metadata": {},
     "output_type": "execute_result"
    }
   ],
   "source": [
    "daf                              #printing daf"
   ]
  },
  {
   "cell_type": "code",
   "execution_count": 56,
   "id": "e3012118-5b54-4939-9b2a-3dff0e294ecf",
   "metadata": {},
   "outputs": [
    {
     "data": {
      "text/html": [
       "<div>\n",
       "<style scoped>\n",
       "    .dataframe tbody tr th:only-of-type {\n",
       "        vertical-align: middle;\n",
       "    }\n",
       "\n",
       "    .dataframe tbody tr th {\n",
       "        vertical-align: top;\n",
       "    }\n",
       "\n",
       "    .dataframe thead th {\n",
       "        text-align: right;\n",
       "    }\n",
       "</style>\n",
       "<table border=\"1\" class=\"dataframe\">\n",
       "  <thead>\n",
       "    <tr style=\"text-align: right;\">\n",
       "      <th></th>\n",
       "      <th>index</th>\n",
       "      <th>1</th>\n",
       "      <th>2</th>\n",
       "    </tr>\n",
       "  </thead>\n",
       "  <tbody>\n",
       "    <tr>\n",
       "      <th>0</th>\n",
       "      <td>1</td>\n",
       "      <td>0.565019</td>\n",
       "      <td>0.668900</td>\n",
       "    </tr>\n",
       "    <tr>\n",
       "      <th>1</th>\n",
       "      <td>2</td>\n",
       "      <td>0.337848</td>\n",
       "      <td>0.613582</td>\n",
       "    </tr>\n",
       "    <tr>\n",
       "      <th>2</th>\n",
       "      <td>4</td>\n",
       "      <td>0.400367</td>\n",
       "      <td>0.528506</td>\n",
       "    </tr>\n",
       "  </tbody>\n",
       "</table>\n",
       "</div>"
      ],
      "text/plain": [
       "   index         1         2\n",
       "0      1  0.565019  0.668900\n",
       "1      2  0.337848  0.613582\n",
       "2      4  0.400367  0.528506"
      ]
     },
     "execution_count": 56,
     "metadata": {},
     "output_type": "execute_result"
    }
   ],
   "source": [
    "daf.reset_index()                 #reseting index"
   ]
  },
  {
   "cell_type": "markdown",
   "id": "790a1443-b2e2-4ca6-88f4-04f0416e6311",
   "metadata": {},
   "source": [
    "It is additionally shows another column index.Now we want to remove it."
   ]
  },
  {
   "cell_type": "code",
   "execution_count": 57,
   "id": "7be2ebfb-3f22-4448-82e4-1a2119db0aef",
   "metadata": {},
   "outputs": [],
   "source": [
    "daf.reset_index(drop=True,inplace=True)       #removing index column"
   ]
  },
  {
   "cell_type": "code",
   "execution_count": 58,
   "id": "39d3e6eb-4c51-4a4d-96b2-104260a3ea8b",
   "metadata": {},
   "outputs": [
    {
     "data": {
      "text/html": [
       "<div>\n",
       "<style scoped>\n",
       "    .dataframe tbody tr th:only-of-type {\n",
       "        vertical-align: middle;\n",
       "    }\n",
       "\n",
       "    .dataframe tbody tr th {\n",
       "        vertical-align: top;\n",
       "    }\n",
       "\n",
       "    .dataframe thead th {\n",
       "        text-align: right;\n",
       "    }\n",
       "</style>\n",
       "<table border=\"1\" class=\"dataframe\">\n",
       "  <thead>\n",
       "    <tr style=\"text-align: right;\">\n",
       "      <th></th>\n",
       "      <th>1</th>\n",
       "      <th>2</th>\n",
       "    </tr>\n",
       "  </thead>\n",
       "  <tbody>\n",
       "    <tr>\n",
       "      <th>0</th>\n",
       "      <td>0.565019</td>\n",
       "      <td>0.668900</td>\n",
       "    </tr>\n",
       "    <tr>\n",
       "      <th>1</th>\n",
       "      <td>0.337848</td>\n",
       "      <td>0.613582</td>\n",
       "    </tr>\n",
       "    <tr>\n",
       "      <th>2</th>\n",
       "      <td>0.400367</td>\n",
       "      <td>0.528506</td>\n",
       "    </tr>\n",
       "  </tbody>\n",
       "</table>\n",
       "</div>"
      ],
      "text/plain": [
       "          1         2\n",
       "0  0.565019  0.668900\n",
       "1  0.337848  0.613582\n",
       "2  0.400367  0.528506"
      ]
     },
     "execution_count": 58,
     "metadata": {},
     "output_type": "execute_result"
    }
   ],
   "source": [
    "daf                                          #printing new daf"
   ]
  },
  {
   "cell_type": "markdown",
   "id": "414e435f-8b5a-4da1-a1fa-88381f1769e3",
   "metadata": {},
   "source": []
  }
 ],
 "metadata": {
  "kernelspec": {
   "display_name": "Python 3 (ipykernel)",
   "language": "python",
   "name": "python3"
  },
  "language_info": {
   "codemirror_mode": {
    "name": "ipython",
    "version": 3
   },
   "file_extension": ".py",
   "mimetype": "text/x-python",
   "name": "python",
   "nbconvert_exporter": "python",
   "pygments_lexer": "ipython3",
   "version": "3.11.7"
  }
 },
 "nbformat": 4,
 "nbformat_minor": 5
}
